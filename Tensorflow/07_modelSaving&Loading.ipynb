{
  "nbformat": 4,
  "nbformat_minor": 0,
  "metadata": {
    "colab": {
      "name": "07.modelSaving&Loading.ipynb",
      "provenance": [],
      "collapsed_sections": [],
      "authorship_tag": "ABX9TyN6vQ5IcHZPqCa2GPru8Tjw",
      "include_colab_link": true
    },
    "kernelspec": {
      "name": "python3",
      "display_name": "Python 3"
    },
    "language_info": {
      "name": "python"
    },
    "gpuClass": "standard"
  },
  "cells": [
    {
      "cell_type": "markdown",
      "metadata": {
        "id": "view-in-github",
        "colab_type": "text"
      },
      "source": [
        "<a href=\"https://colab.research.google.com/github/DeuklyoungKo/TensorFlowBasicWithPython/blob/main/Tensorflow/07_modelSaving%26Loading.ipynb\" target=\"_parent\"><img src=\"https://colab.research.google.com/assets/colab-badge.svg\" alt=\"Open In Colab\"/></a>"
      ]
    },
    {
      "cell_type": "markdown",
      "source": [
        "#[모델 저장과 복원](https://www.tensorflow.org/tutorials/keras/save_and_load?hl=ko)"
      ],
      "metadata": {
        "id": "9BqqlV60rbRf"
      }
    },
    {
      "cell_type": "code",
      "execution_count": 1,
      "metadata": {
        "colab": {
          "base_uri": "https://localhost:8080/"
        },
        "id": "n54dcUMbNxLe",
        "outputId": "f71c4ed3-ee69-47c1-fb7c-dc4a8e4835cf"
      },
      "outputs": [
        {
          "output_type": "stream",
          "name": "stdout",
          "text": [
            "2.8.2\n"
          ]
        }
      ],
      "source": [
        "import os\n",
        "\n",
        "import tensorflow as tf\n",
        "from tensorflow import keras\n",
        "\n",
        "print(tf.version.VERSION)"
      ]
    },
    {
      "cell_type": "code",
      "source": [
        "(train_images, train_labels), (test_images, test_labels) = tf.keras.datasets.mnist.load_data()\n",
        "\n",
        "train_labels = train_labels[:1000]\n",
        "test_labels = test_labels[:1000]\n",
        "\n",
        "train_images = train_images[:1000].reshape(-1, 28 * 28) / 255.0\n",
        "test_images = test_images[:1000].reshape(-1, 28 * 28) / 255.0"
      ],
      "metadata": {
        "colab": {
          "base_uri": "https://localhost:8080/"
        },
        "id": "jGf5ab3WOZ7P",
        "outputId": "9ecc2810-edb2-46f1-ed78-f78e4a363849"
      },
      "execution_count": 2,
      "outputs": [
        {
          "output_type": "stream",
          "name": "stdout",
          "text": [
            "Downloading data from https://storage.googleapis.com/tensorflow/tf-keras-datasets/mnist.npz\n",
            "11493376/11490434 [==============================] - 0s 0us/step\n",
            "11501568/11490434 [==============================] - 0s 0us/step\n"
          ]
        }
      ]
    },
    {
      "cell_type": "code",
      "source": [
        "# 간단한 Sequential 모델을 정의합니다\n",
        "def create_model():\n",
        "  model = tf.keras.models.Sequential([\n",
        "    keras.layers.Dense(512, activation='relu', input_shape=(784,)),\n",
        "    keras.layers.Dropout(0.2),\n",
        "    keras.layers.Dense(10)\n",
        "  ])\n",
        "\n",
        "  model.compile(optimizer='adam',\n",
        "                loss=tf.losses.SparseCategoricalCrossentropy(from_logits=True),\n",
        "                metrics=['accuracy'])\n",
        "\n",
        "  return model\n",
        "\n",
        "# 모델 객체를 만듭니다\n",
        "model = create_model()\n",
        "\n",
        "# 모델 구조를 출력합니다\n",
        "model.summary()"
      ],
      "metadata": {
        "colab": {
          "base_uri": "https://localhost:8080/"
        },
        "id": "7hNyPf90OtUL",
        "outputId": "6a0f42ff-387e-48c2-b1d4-cc1a2752576f"
      },
      "execution_count": 3,
      "outputs": [
        {
          "output_type": "stream",
          "name": "stdout",
          "text": [
            "Model: \"sequential\"\n",
            "_________________________________________________________________\n",
            " Layer (type)                Output Shape              Param #   \n",
            "=================================================================\n",
            " dense (Dense)               (None, 512)               401920    \n",
            "                                                                 \n",
            " dropout (Dropout)           (None, 512)               0         \n",
            "                                                                 \n",
            " dense_1 (Dense)             (None, 10)                5130      \n",
            "                                                                 \n",
            "=================================================================\n",
            "Total params: 407,050\n",
            "Trainable params: 407,050\n",
            "Non-trainable params: 0\n",
            "_________________________________________________________________\n"
          ]
        }
      ]
    },
    {
      "cell_type": "code",
      "source": [
        "checkpoint_path = \"training_1/cp.ckpt\"\n",
        "checkpoint_dir = os.path.dirname(checkpoint_path)\n",
        "\n",
        "# 모델의 가중치를 저장하는 콜백 만들기\n",
        "cp_callback = tf.keras.callbacks.ModelCheckpoint(filepath=checkpoint_path,\n",
        "                                                 save_weights_only=True,\n",
        "                                                 verbose=1)\n",
        "\n",
        "# 새로운 콜백으로 모델 훈련하기\n",
        "model.fit(train_images, \n",
        "          train_labels,  \n",
        "          epochs=10,\n",
        "          validation_data=(test_images,test_labels),\n",
        "          callbacks=[cp_callback])  # 콜백을 훈련에 전달합니다\n",
        "\n",
        "# 옵티마이저의 상태를 저장하는 것과 관련되어 경고가 발생할 수 있습니다.\n",
        "# 이 경고는 (그리고 이 노트북의 다른 비슷한 경고는) 이전 사용 방식을 권장하지 않기 위함이며 무시해도 좋습니다."
      ],
      "metadata": {
        "colab": {
          "base_uri": "https://localhost:8080/"
        },
        "id": "RMgWwxyhZA1p",
        "outputId": "c7540e0f-67ab-46b1-a608-543ac6394600"
      },
      "execution_count": 4,
      "outputs": [
        {
          "output_type": "stream",
          "name": "stdout",
          "text": [
            "Epoch 1/10\n",
            "24/32 [=====================>........] - ETA: 0s - loss: 1.3452 - accuracy: 0.6198\n",
            "Epoch 1: saving model to training_1/cp.ckpt\n",
            "32/32 [==============================] - 1s 16ms/step - loss: 1.1749 - accuracy: 0.6740 - val_loss: 0.7434 - val_accuracy: 0.7650\n",
            "Epoch 2/10\n",
            "31/32 [============================>.] - ETA: 0s - loss: 0.4202 - accuracy: 0.8760\n",
            "Epoch 2: saving model to training_1/cp.ckpt\n",
            "32/32 [==============================] - 0s 11ms/step - loss: 0.4181 - accuracy: 0.8770 - val_loss: 0.5272 - val_accuracy: 0.8330\n",
            "Epoch 3/10\n",
            "22/32 [===================>..........] - ETA: 0s - loss: 0.2926 - accuracy: 0.9176\n",
            "Epoch 3: saving model to training_1/cp.ckpt\n",
            "32/32 [==============================] - 0s 8ms/step - loss: 0.2903 - accuracy: 0.9190 - val_loss: 0.5122 - val_accuracy: 0.8510\n",
            "Epoch 4/10\n",
            "22/32 [===================>..........] - ETA: 0s - loss: 0.2085 - accuracy: 0.9446\n",
            "Epoch 4: saving model to training_1/cp.ckpt\n",
            "32/32 [==============================] - 0s 11ms/step - loss: 0.2143 - accuracy: 0.9460 - val_loss: 0.4513 - val_accuracy: 0.8480\n",
            "Epoch 5/10\n",
            "24/32 [=====================>........] - ETA: 0s - loss: 0.1788 - accuracy: 0.9635\n",
            "Epoch 5: saving model to training_1/cp.ckpt\n",
            "32/32 [==============================] - 0s 11ms/step - loss: 0.1671 - accuracy: 0.9630 - val_loss: 0.4479 - val_accuracy: 0.8470\n",
            "Epoch 6/10\n",
            "22/32 [===================>..........] - ETA: 0s - loss: 0.1043 - accuracy: 0.9858\n",
            "Epoch 6: saving model to training_1/cp.ckpt\n",
            "32/32 [==============================] - 0s 8ms/step - loss: 0.1066 - accuracy: 0.9830 - val_loss: 0.4239 - val_accuracy: 0.8570\n",
            "Epoch 7/10\n",
            "32/32 [==============================] - ETA: 0s - loss: 0.0835 - accuracy: 0.9890\n",
            "Epoch 7: saving model to training_1/cp.ckpt\n",
            "32/32 [==============================] - 0s 11ms/step - loss: 0.0835 - accuracy: 0.9890 - val_loss: 0.4215 - val_accuracy: 0.8630\n",
            "Epoch 8/10\n",
            "23/32 [====================>.........] - ETA: 0s - loss: 0.0645 - accuracy: 0.9905\n",
            "Epoch 8: saving model to training_1/cp.ckpt\n",
            "32/32 [==============================] - 0s 11ms/step - loss: 0.0685 - accuracy: 0.9890 - val_loss: 0.4157 - val_accuracy: 0.8650\n",
            "Epoch 9/10\n",
            "22/32 [===================>..........] - ETA: 0s - loss: 0.0529 - accuracy: 0.9915\n",
            "Epoch 9: saving model to training_1/cp.ckpt\n",
            "32/32 [==============================] - 0s 8ms/step - loss: 0.0500 - accuracy: 0.9930 - val_loss: 0.4171 - val_accuracy: 0.8690\n",
            "Epoch 10/10\n",
            "23/32 [====================>.........] - ETA: 0s - loss: 0.0369 - accuracy: 1.0000\n",
            "Epoch 10: saving model to training_1/cp.ckpt\n",
            "32/32 [==============================] - 0s 11ms/step - loss: 0.0380 - accuracy: 0.9990 - val_loss: 0.4140 - val_accuracy: 0.8700\n"
          ]
        },
        {
          "output_type": "execute_result",
          "data": {
            "text/plain": [
              "<keras.callbacks.History at 0x7f7235214290>"
            ]
          },
          "metadata": {},
          "execution_count": 4
        }
      ]
    },
    {
      "cell_type": "code",
      "source": [
        "os.listdir(checkpoint_dir)"
      ],
      "metadata": {
        "colab": {
          "base_uri": "https://localhost:8080/"
        },
        "id": "P-dYlCwPZVCk",
        "outputId": "42060dad-a8fe-4e4a-8500-119128d41f71"
      },
      "execution_count": 5,
      "outputs": [
        {
          "output_type": "execute_result",
          "data": {
            "text/plain": [
              "['cp.ckpt.index', 'checkpoint', 'cp.ckpt.data-00000-of-00001']"
            ]
          },
          "metadata": {},
          "execution_count": 5
        }
      ]
    },
    {
      "cell_type": "code",
      "source": [
        "# 기본 모델 객체를 만듭니다\n",
        "model = create_model()\n",
        "\n",
        "# 모델을 평가합니다\n",
        "loss, acc = model.evaluate(test_images,  test_labels, verbose=2)\n",
        "print(\"훈련되지 않은 모델의 정확도: {:5.2f}%\".format(100*acc))"
      ],
      "metadata": {
        "colab": {
          "base_uri": "https://localhost:8080/"
        },
        "id": "l-1PU7zVZ2Vz",
        "outputId": "b2e9a37e-5dd3-4a8e-a8fb-05b047120066"
      },
      "execution_count": 6,
      "outputs": [
        {
          "output_type": "stream",
          "name": "stdout",
          "text": [
            "32/32 - 0s - loss: 2.3186 - accuracy: 0.0970 - 236ms/epoch - 7ms/step\n",
            "훈련되지 않은 모델의 정확도:  9.70%\n"
          ]
        }
      ]
    },
    {
      "cell_type": "code",
      "source": [
        "# 가중치 로드\n",
        "model.load_weights(checkpoint_path)\n",
        "\n",
        "# 모델 재평가\n",
        "loss,acc = model.evaluate(test_images,  test_labels, verbose=2)\n",
        "print(\"복원된 모델의 정확도: {:5.2f}%\".format(100*acc))"
      ],
      "metadata": {
        "colab": {
          "base_uri": "https://localhost:8080/"
        },
        "id": "IM1mjSINaAUO",
        "outputId": "507d1b48-1b96-4616-b910-4528305729ed"
      },
      "execution_count": 7,
      "outputs": [
        {
          "output_type": "stream",
          "name": "stdout",
          "text": [
            "32/32 - 0s - loss: 0.4140 - accuracy: 0.8700 - 82ms/epoch - 3ms/step\n",
            "복원된 모델의 정확도: 87.00%\n"
          ]
        }
      ]
    },
    {
      "cell_type": "code",
      "source": [
        "# 파일 이름에 에포크 번호를 포함시킵니다(`str.format` 포맷)\n",
        "checkpoint_path = \"training_2/cp-{epoch:04d}.ckpt\"\n",
        "checkpoint_dir = os.path.dirname(checkpoint_path)\n",
        "\n",
        "# 다섯 번째 에포크마다 가중치를 저장하기 위한 콜백을 만듭니다\n",
        "cp_callback = tf.keras.callbacks.ModelCheckpoint(\n",
        "    filepath=checkpoint_path, \n",
        "    verbose=1, \n",
        "    save_weights_only=True,\n",
        "    period=5)\n",
        "\n",
        "# 새로운 모델 객체를 만듭니다\n",
        "model = create_model()\n",
        "\n",
        "# `checkpoint_path` 포맷을 사용하는 가중치를 저장합니다\n",
        "model.save_weights(checkpoint_path.format(epoch=0))\n",
        "\n",
        "# 새로운 콜백을 사용하여 모델을 훈련합니다\n",
        "model.fit(train_images, \n",
        "          train_labels,\n",
        "          epochs=50, \n",
        "          callbacks=[cp_callback],\n",
        "          validation_data=(test_images,test_labels),\n",
        "          verbose=0)"
      ],
      "metadata": {
        "colab": {
          "base_uri": "https://localhost:8080/"
        },
        "id": "R9JJaYARamOL",
        "outputId": "24ac9aa5-0dd4-400d-f501-b94a5d4a623d"
      },
      "execution_count": 8,
      "outputs": [
        {
          "output_type": "stream",
          "name": "stdout",
          "text": [
            "WARNING:tensorflow:`period` argument is deprecated. Please use `save_freq` to specify the frequency in number of batches seen.\n",
            "\n",
            "Epoch 5: saving model to training_2/cp-0005.ckpt\n",
            "\n",
            "Epoch 10: saving model to training_2/cp-0010.ckpt\n",
            "\n",
            "Epoch 15: saving model to training_2/cp-0015.ckpt\n",
            "\n",
            "Epoch 20: saving model to training_2/cp-0020.ckpt\n",
            "\n",
            "Epoch 25: saving model to training_2/cp-0025.ckpt\n",
            "\n",
            "Epoch 30: saving model to training_2/cp-0030.ckpt\n",
            "\n",
            "Epoch 35: saving model to training_2/cp-0035.ckpt\n",
            "\n",
            "Epoch 40: saving model to training_2/cp-0040.ckpt\n",
            "\n",
            "Epoch 45: saving model to training_2/cp-0045.ckpt\n",
            "\n",
            "Epoch 50: saving model to training_2/cp-0050.ckpt\n"
          ]
        },
        {
          "output_type": "execute_result",
          "data": {
            "text/plain": [
              "<keras.callbacks.History at 0x7f7235129c50>"
            ]
          },
          "metadata": {},
          "execution_count": 8
        }
      ]
    },
    {
      "cell_type": "code",
      "source": [
        "os.listdir(checkpoint_dir)"
      ],
      "metadata": {
        "colab": {
          "base_uri": "https://localhost:8080/"
        },
        "id": "JO9JwUyLb5F4",
        "outputId": "9c2634c3-67b4-4015-abc5-fa4d02c1f4bc"
      },
      "execution_count": 9,
      "outputs": [
        {
          "output_type": "execute_result",
          "data": {
            "text/plain": [
              "['cp-0010.ckpt.data-00000-of-00001',\n",
              " 'cp-0020.ckpt.index',\n",
              " 'cp-0050.ckpt.data-00000-of-00001',\n",
              " 'cp-0040.ckpt.data-00000-of-00001',\n",
              " 'cp-0005.ckpt.index',\n",
              " 'cp-0010.ckpt.index',\n",
              " 'cp-0030.ckpt.index',\n",
              " 'cp-0040.ckpt.index',\n",
              " 'cp-0020.ckpt.data-00000-of-00001',\n",
              " 'cp-0000.ckpt.data-00000-of-00001',\n",
              " 'cp-0045.ckpt.data-00000-of-00001',\n",
              " 'cp-0025.ckpt.data-00000-of-00001',\n",
              " 'cp-0025.ckpt.index',\n",
              " 'cp-0035.ckpt.data-00000-of-00001',\n",
              " 'cp-0000.ckpt.index',\n",
              " 'checkpoint',\n",
              " 'cp-0035.ckpt.index',\n",
              " 'cp-0045.ckpt.index',\n",
              " 'cp-0005.ckpt.data-00000-of-00001',\n",
              " 'cp-0015.ckpt.data-00000-of-00001',\n",
              " 'cp-0030.ckpt.data-00000-of-00001',\n",
              " 'cp-0050.ckpt.index',\n",
              " 'cp-0015.ckpt.index']"
            ]
          },
          "metadata": {},
          "execution_count": 9
        }
      ]
    },
    {
      "cell_type": "code",
      "source": [
        "latest = tf.train.latest_checkpoint(checkpoint_dir)\n",
        "latest"
      ],
      "metadata": {
        "colab": {
          "base_uri": "https://localhost:8080/",
          "height": 35
        },
        "id": "Bifw8Iz4b7wG",
        "outputId": "aaf321d1-a6c5-4f2e-b91e-565e29d44272"
      },
      "execution_count": 10,
      "outputs": [
        {
          "output_type": "execute_result",
          "data": {
            "text/plain": [
              "'training_2/cp-0050.ckpt'"
            ],
            "application/vnd.google.colaboratory.intrinsic+json": {
              "type": "string"
            }
          },
          "metadata": {},
          "execution_count": 10
        }
      ]
    },
    {
      "cell_type": "code",
      "source": [
        "# 새로운 모델 객체를 만듭니다\n",
        "model = create_model()\n",
        "\n",
        "# 이전에 저장한 가중치를 로드합니다\n",
        "model.load_weights(latest)\n",
        "\n",
        "# 모델을 재평가합니다\n",
        "loss, acc = model.evaluate(test_images,  test_labels, verbose=2)\n",
        "print(\"복원된 모델의 정확도: {:5.2f}%\".format(100*acc))"
      ],
      "metadata": {
        "colab": {
          "base_uri": "https://localhost:8080/"
        },
        "id": "HasgApntdlzl",
        "outputId": "1fd8fc02-eeaf-4639-89e7-bd7bd23cc004"
      },
      "execution_count": 11,
      "outputs": [
        {
          "output_type": "stream",
          "name": "stdout",
          "text": [
            "32/32 - 0s - loss: 0.4817 - accuracy: 0.8750 - 240ms/epoch - 7ms/step\n",
            "복원된 모델의 정확도: 87.50%\n"
          ]
        }
      ]
    },
    {
      "cell_type": "markdown",
      "source": [
        "## 전체 모델 저장하기"
      ],
      "metadata": {
        "id": "CAgi0NxaqE0n"
      }
    },
    {
      "cell_type": "code",
      "source": [
        "# 새로운 모델 객체를 만들고 훈련합니다\n",
        "model = create_model()\n",
        "model.fit(train_images, train_labels, epochs=5)\n",
        "\n",
        "# SavedModel로 전체 모델을 저장합니다\n",
        "!mkdir -p saved_model\n",
        "model.save('saved_model/my_model')"
      ],
      "metadata": {
        "colab": {
          "base_uri": "https://localhost:8080/"
        },
        "id": "BItSUHWpqChF",
        "outputId": "6e05e408-c9a0-4e74-9780-9d0911d73690"
      },
      "execution_count": 12,
      "outputs": [
        {
          "output_type": "stream",
          "name": "stdout",
          "text": [
            "Epoch 1/5\n",
            "32/32 [==============================] - 1s 5ms/step - loss: 1.1240 - accuracy: 0.6910\n",
            "Epoch 2/5\n",
            "32/32 [==============================] - 0s 5ms/step - loss: 0.4161 - accuracy: 0.8790\n",
            "Epoch 3/5\n",
            "32/32 [==============================] - 0s 5ms/step - loss: 0.2869 - accuracy: 0.9270\n",
            "Epoch 4/5\n",
            "32/32 [==============================] - 0s 5ms/step - loss: 0.2042 - accuracy: 0.9520\n",
            "Epoch 5/5\n",
            "32/32 [==============================] - 0s 5ms/step - loss: 0.1566 - accuracy: 0.9660\n",
            "INFO:tensorflow:Assets written to: saved_model/my_model/assets\n"
          ]
        }
      ]
    },
    {
      "cell_type": "markdown",
      "source": [
        "### 저장된 모델로부터 새로운 케라스 모델을 로드합니다:"
      ],
      "metadata": {
        "id": "S31hMuZQq-RH"
      }
    },
    {
      "cell_type": "code",
      "source": [
        "new_model = tf.keras.models.load_model('saved_model/my_model')\n",
        "\n",
        "# 모델 구조를 확인합니다\n",
        "new_model.summary()"
      ],
      "metadata": {
        "colab": {
          "base_uri": "https://localhost:8080/"
        },
        "id": "eGmwF91CqrRM",
        "outputId": "08e2c355-ea38-4746-9744-8dfd6608353e"
      },
      "execution_count": 15,
      "outputs": [
        {
          "output_type": "stream",
          "name": "stdout",
          "text": [
            "Model: \"sequential_4\"\n",
            "_________________________________________________________________\n",
            " Layer (type)                Output Shape              Param #   \n",
            "=================================================================\n",
            " dense_8 (Dense)             (None, 512)               401920    \n",
            "                                                                 \n",
            " dropout_4 (Dropout)         (None, 512)               0         \n",
            "                                                                 \n",
            " dense_9 (Dense)             (None, 10)                5130      \n",
            "                                                                 \n",
            "=================================================================\n",
            "Total params: 407,050\n",
            "Trainable params: 407,050\n",
            "Non-trainable params: 0\n",
            "_________________________________________________________________\n"
          ]
        }
      ]
    },
    {
      "cell_type": "code",
      "source": [
        "# 복원된 모델을 평가합니다\n",
        "loss, acc = new_model.evaluate(test_images,  test_labels, verbose=2)\n",
        "print('복원된 모델의 정확도: {:5.2f}%'.format(100*acc))\n",
        "\n",
        "print(new_model.predict(test_images).shape)"
      ],
      "metadata": {
        "colab": {
          "base_uri": "https://localhost:8080/"
        },
        "id": "j_jkIn4zrJHF",
        "outputId": "df7307cf-69eb-436c-e72e-7baa16fc5db2"
      },
      "execution_count": 16,
      "outputs": [
        {
          "output_type": "stream",
          "name": "stdout",
          "text": [
            "32/32 - 0s - loss: 0.4259 - accuracy: 0.8680 - 172ms/epoch - 5ms/step\n",
            "복원된 모델의 정확도: 86.80%\n",
            "(1000, 10)\n"
          ]
        }
      ]
    },
    {
      "cell_type": "markdown",
      "source": [
        "### HDF5 파일로 저장하기"
      ],
      "metadata": {
        "id": "swfVqtxSrVTO"
      }
    },
    {
      "cell_type": "code",
      "source": [
        "# 새로운 모델 객체를 만들고 훈련합니다\n",
        "model = create_model()\n",
        "model.fit(train_images, train_labels, epochs=5)\n",
        "\n",
        "# 전체 모델을 HDF5 파일로 저장합니다\n",
        "# '.h5' 확장자는 이 모델이 HDF5로 저장되었다는 것을 나타냅니다\n",
        "model.save('my_model.h5')"
      ],
      "metadata": {
        "colab": {
          "base_uri": "https://localhost:8080/"
        },
        "id": "X3yYwd8frTB7",
        "outputId": "b7c57bb4-cdec-4774-feea-b00db0a7a8c7"
      },
      "execution_count": 17,
      "outputs": [
        {
          "output_type": "stream",
          "name": "stdout",
          "text": [
            "Epoch 1/5\n",
            "32/32 [==============================] - 0s 5ms/step - loss: 1.1752 - accuracy: 0.6730\n",
            "Epoch 2/5\n",
            "32/32 [==============================] - 0s 5ms/step - loss: 0.4367 - accuracy: 0.8750\n",
            "Epoch 3/5\n",
            "32/32 [==============================] - 0s 5ms/step - loss: 0.2882 - accuracy: 0.9300\n",
            "Epoch 4/5\n",
            "32/32 [==============================] - 0s 5ms/step - loss: 0.2207 - accuracy: 0.9420\n",
            "Epoch 5/5\n",
            "32/32 [==============================] - 0s 5ms/step - loss: 0.1611 - accuracy: 0.9640\n"
          ]
        }
      ]
    },
    {
      "cell_type": "code",
      "source": [
        "# 가중치와 옵티마이저를 포함하여 정확히 동일한 모델을 다시 생성합니다\n",
        "new_model = tf.keras.models.load_model('my_model.h5')\n",
        "\n",
        "# 모델 구조를 출력합니다\n",
        "new_model.summary()"
      ],
      "metadata": {
        "colab": {
          "base_uri": "https://localhost:8080/"
        },
        "id": "UTZW8rwtxxHN",
        "outputId": "ece6b7ff-5a4d-45ef-ed2e-2dcb02ca4d45"
      },
      "execution_count": 18,
      "outputs": [
        {
          "output_type": "stream",
          "name": "stdout",
          "text": [
            "Model: \"sequential_5\"\n",
            "_________________________________________________________________\n",
            " Layer (type)                Output Shape              Param #   \n",
            "=================================================================\n",
            " dense_10 (Dense)            (None, 512)               401920    \n",
            "                                                                 \n",
            " dropout_5 (Dropout)         (None, 512)               0         \n",
            "                                                                 \n",
            " dense_11 (Dense)            (None, 10)                5130      \n",
            "                                                                 \n",
            "=================================================================\n",
            "Total params: 407,050\n",
            "Trainable params: 407,050\n",
            "Non-trainable params: 0\n",
            "_________________________________________________________________\n"
          ]
        }
      ]
    },
    {
      "cell_type": "code",
      "source": [
        "loss, acc = new_model.evaluate(test_images,  test_labels, verbose=2)\n",
        "print('복원된 모델의 정확도: {:5.2f}%'.format(100*acc))"
      ],
      "metadata": {
        "colab": {
          "base_uri": "https://localhost:8080/"
        },
        "id": "9bHdXwDZzPES",
        "outputId": "f0ace591-93ca-4525-d89f-c6f647f451eb"
      },
      "execution_count": 19,
      "outputs": [
        {
          "output_type": "stream",
          "name": "stdout",
          "text": [
            "32/32 - 0s - loss: 0.4294 - accuracy: 0.8570 - 177ms/epoch - 6ms/step\n",
            "복원된 모델의 정확도: 85.70%\n"
          ]
        }
      ]
    }
  ]
}