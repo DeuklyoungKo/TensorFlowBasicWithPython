{
  "nbformat": 4,
  "nbformat_minor": 0,
  "metadata": {
    "colab": {
      "name": "03.Keras_Text.ipynb",
      "provenance": [],
      "collapsed_sections": [],
      "authorship_tag": "ABX9TyN2/IJEwaD4PByJ8HYqfzsw",
      "include_colab_link": true
    },
    "kernelspec": {
      "name": "python3",
      "display_name": "Python 3"
    },
    "language_info": {
      "name": "python"
    }
  },
  "cells": [
    {
      "cell_type": "markdown",
      "metadata": {
        "id": "view-in-github",
        "colab_type": "text"
      },
      "source": [
        "<a href=\"https://colab.research.google.com/github/DeuklyoungKo/TensorFlowBasicWithPython/blob/main/Tensorflow/03_Keras_Text.ipynb\" target=\"_parent\"><img src=\"https://colab.research.google.com/assets/colab-badge.svg\" alt=\"Open In Colab\"/></a>"
      ]
    },
    {
      "cell_type": "code",
      "execution_count": 1,
      "metadata": {
        "colab": {
          "base_uri": "https://localhost:8080/"
        },
        "id": "omY-LE8Sm7uv",
        "outputId": "9f461f92-2585-4043-cb03-fde1b3c9d778"
      },
      "outputs": [
        {
          "output_type": "stream",
          "name": "stdout",
          "text": [
            "2.8.2\n"
          ]
        }
      ],
      "source": [
        "import tensorflow as tf\n",
        "from tensorflow import keras\n",
        "\n",
        "import numpy as np\n",
        "\n",
        "print(tf.__version__)"
      ]
    },
    {
      "cell_type": "code",
      "source": [
        "imdb = keras.datasets.imdb\n",
        "\n",
        "(train_data, train_labels), (test_data, test_labels) = imdb.load_data(num_words=10000)"
      ],
      "metadata": {
        "colab": {
          "base_uri": "https://localhost:8080/"
        },
        "id": "Jsmcadcbnhp1",
        "outputId": "406be218-df60-484b-ed0b-1b222048eba1"
      },
      "execution_count": 2,
      "outputs": [
        {
          "output_type": "stream",
          "name": "stdout",
          "text": [
            "Downloading data from https://storage.googleapis.com/tensorflow/tf-keras-datasets/imdb.npz\n",
            "17465344/17464789 [==============================] - 0s 0us/step\n",
            "17473536/17464789 [==============================] - 0s 0us/step\n"
          ]
        }
      ]
    },
    {
      "cell_type": "code",
      "source": [
        "print(\"훈련 샘플: {}, 레이블: {}\".format(len(train_data), len(train_labels)))"
      ],
      "metadata": {
        "colab": {
          "base_uri": "https://localhost:8080/"
        },
        "id": "IDzVDGzYnrsM",
        "outputId": "56f57223-854c-4283-ab9b-bdb8b29273e9"
      },
      "execution_count": 3,
      "outputs": [
        {
          "output_type": "stream",
          "name": "stdout",
          "text": [
            "훈련 샘플: 25000, 레이블: 25000\n"
          ]
        }
      ]
    },
    {
      "cell_type": "code",
      "source": [
        "print(train_data[0])"
      ],
      "metadata": {
        "colab": {
          "base_uri": "https://localhost:8080/"
        },
        "id": "531v70ePn_ET",
        "outputId": "5b6534e1-1b94-45ea-fa0b-a2a518801009"
      },
      "execution_count": 4,
      "outputs": [
        {
          "output_type": "stream",
          "name": "stdout",
          "text": [
            "[1, 14, 22, 16, 43, 530, 973, 1622, 1385, 65, 458, 4468, 66, 3941, 4, 173, 36, 256, 5, 25, 100, 43, 838, 112, 50, 670, 2, 9, 35, 480, 284, 5, 150, 4, 172, 112, 167, 2, 336, 385, 39, 4, 172, 4536, 1111, 17, 546, 38, 13, 447, 4, 192, 50, 16, 6, 147, 2025, 19, 14, 22, 4, 1920, 4613, 469, 4, 22, 71, 87, 12, 16, 43, 530, 38, 76, 15, 13, 1247, 4, 22, 17, 515, 17, 12, 16, 626, 18, 2, 5, 62, 386, 12, 8, 316, 8, 106, 5, 4, 2223, 5244, 16, 480, 66, 3785, 33, 4, 130, 12, 16, 38, 619, 5, 25, 124, 51, 36, 135, 48, 25, 1415, 33, 6, 22, 12, 215, 28, 77, 52, 5, 14, 407, 16, 82, 2, 8, 4, 107, 117, 5952, 15, 256, 4, 2, 7, 3766, 5, 723, 36, 71, 43, 530, 476, 26, 400, 317, 46, 7, 4, 2, 1029, 13, 104, 88, 4, 381, 15, 297, 98, 32, 2071, 56, 26, 141, 6, 194, 7486, 18, 4, 226, 22, 21, 134, 476, 26, 480, 5, 144, 30, 5535, 18, 51, 36, 28, 224, 92, 25, 104, 4, 226, 65, 16, 38, 1334, 88, 12, 16, 283, 5, 16, 4472, 113, 103, 32, 15, 16, 5345, 19, 178, 32]\n"
          ]
        }
      ]
    },
    {
      "cell_type": "code",
      "source": [
        "len(train_data[0]), len(train_data[1])"
      ],
      "metadata": {
        "colab": {
          "base_uri": "https://localhost:8080/"
        },
        "id": "2eEmrbtOoPWr",
        "outputId": "a4386409-8872-4834-cc90-b515e80b873e"
      },
      "execution_count": 5,
      "outputs": [
        {
          "output_type": "execute_result",
          "data": {
            "text/plain": [
              "(218, 189)"
            ]
          },
          "metadata": {},
          "execution_count": 5
        }
      ]
    },
    {
      "cell_type": "code",
      "source": [
        "# 단어와 정수 인덱스를 매핑한 딕셔너리\n",
        "word_index = imdb.get_word_index()"
      ],
      "metadata": {
        "colab": {
          "base_uri": "https://localhost:8080/"
        },
        "id": "21OmT-GPophL",
        "outputId": "cd7f2c14-8b6a-4428-91a3-65be708f81f6"
      },
      "execution_count": 6,
      "outputs": [
        {
          "output_type": "stream",
          "name": "stdout",
          "text": [
            "Downloading data from https://storage.googleapis.com/tensorflow/tf-keras-datasets/imdb_word_index.json\n",
            "1646592/1641221 [==============================] - 0s 0us/step\n",
            "1654784/1641221 [==============================] - 0s 0us/step\n"
          ]
        }
      ]
    },
    {
      "cell_type": "code",
      "source": [
        "# 처음 몇 개 인덱스는 사전에 정의되어 있습니다\n",
        "word_index = {k:(v+3) for k,v in word_index.items()}\n",
        "word_index[\"<PAD>\"] = 0\n",
        "word_index[\"<START>\"] = 1\n",
        "word_index[\"<UNK>\"] = 2  # unknown\n",
        "word_index[\"<UNUSED>\"] = 3\n",
        "\n",
        "reverse_word_index = dict([(value, key) for (key, value) in word_index.items()])\n",
        "\n",
        "def decode_review(text):\n",
        "    return ' '.join([reverse_word_index.get(i, '?') for i in text])"
      ],
      "metadata": {
        "id": "HKr-orjiousT"
      },
      "execution_count": 7,
      "outputs": []
    },
    {
      "cell_type": "code",
      "source": [
        "decode_review(train_data[0])"
      ],
      "metadata": {
        "colab": {
          "base_uri": "https://localhost:8080/",
          "height": 90
        },
        "id": "P4nMFJudpCF7",
        "outputId": "3a9c35ea-7ccb-4b6e-9e39-e5e0d5131b50"
      },
      "execution_count": 9,
      "outputs": [
        {
          "output_type": "execute_result",
          "data": {
            "text/plain": [
              "\"<START> this film was just brilliant casting location scenery story direction everyone's really suited the part they played and you could just imagine being there robert <UNK> is an amazing actor and now the same being director <UNK> father came from the same scottish island as myself so i loved the fact there was a real connection with this film the witty remarks throughout the film were great it was just brilliant so much that i bought the film as soon as it was released for <UNK> and would recommend it to everyone to watch and the fly fishing was amazing really cried at the end it was so sad and you know what they say if you cry at a film it must have been good and this definitely was also <UNK> to the two little boy's that played the <UNK> of norman and paul they were just brilliant children are often left out of the <UNK> list i think because the stars that play them all grown up are such a big profile for the whole film but these children are amazing and should be praised for what they have done don't you think the whole story was so lovely because it was true and was someone's life after all that was shared with us all\""
            ],
            "application/vnd.google.colaboratory.intrinsic+json": {
              "type": "string"
            }
          },
          "metadata": {},
          "execution_count": 9
        }
      ]
    },
    {
      "cell_type": "code",
      "source": [
        "train_data = keras.preprocessing.sequence.pad_sequences(train_data,\n",
        "                                                        value=word_index[\"<PAD>\"],\n",
        "                                                        padding='post',\n",
        "                                                        maxlen=256)\n",
        "\n",
        "test_data = keras.preprocessing.sequence.pad_sequences(test_data,\n",
        "                                                       value=word_index[\"<PAD>\"],\n",
        "                                                       padding='post',\n",
        "                                                       maxlen=256)"
      ],
      "metadata": {
        "id": "RP_MZOSQphqa"
      },
      "execution_count": 11,
      "outputs": []
    },
    {
      "cell_type": "code",
      "source": [
        "len(train_data[0]), len(train_data[1])"
      ],
      "metadata": {
        "colab": {
          "base_uri": "https://localhost:8080/"
        },
        "id": "ZlWZ5RlmpkHc",
        "outputId": "6855eabb-07ef-4bf6-d715-5c52e9079373"
      },
      "execution_count": 12,
      "outputs": [
        {
          "output_type": "execute_result",
          "data": {
            "text/plain": [
              "(256, 256)"
            ]
          },
          "metadata": {},
          "execution_count": 12
        }
      ]
    },
    {
      "cell_type": "code",
      "source": [
        "print(train_data[0])"
      ],
      "metadata": {
        "colab": {
          "base_uri": "https://localhost:8080/"
        },
        "id": "Y1OZBqHipvqB",
        "outputId": "6ed88182-69a7-4362-e04e-e5b4eeaf0e69"
      },
      "execution_count": 13,
      "outputs": [
        {
          "output_type": "stream",
          "name": "stdout",
          "text": [
            "[   1   14   22   16   43  530  973 1622 1385   65  458 4468   66 3941\n",
            "    4  173   36  256    5   25  100   43  838  112   50  670    2    9\n",
            "   35  480  284    5  150    4  172  112  167    2  336  385   39    4\n",
            "  172 4536 1111   17  546   38   13  447    4  192   50   16    6  147\n",
            " 2025   19   14   22    4 1920 4613  469    4   22   71   87   12   16\n",
            "   43  530   38   76   15   13 1247    4   22   17  515   17   12   16\n",
            "  626   18    2    5   62  386   12    8  316    8  106    5    4 2223\n",
            " 5244   16  480   66 3785   33    4  130   12   16   38  619    5   25\n",
            "  124   51   36  135   48   25 1415   33    6   22   12  215   28   77\n",
            "   52    5   14  407   16   82    2    8    4  107  117 5952   15  256\n",
            "    4    2    7 3766    5  723   36   71   43  530  476   26  400  317\n",
            "   46    7    4    2 1029   13  104   88    4  381   15  297   98   32\n",
            " 2071   56   26  141    6  194 7486   18    4  226   22   21  134  476\n",
            "   26  480    5  144   30 5535   18   51   36   28  224   92   25  104\n",
            "    4  226   65   16   38 1334   88   12   16  283    5   16 4472  113\n",
            "  103   32   15   16 5345   19  178   32    0    0    0    0    0    0\n",
            "    0    0    0    0    0    0    0    0    0    0    0    0    0    0\n",
            "    0    0    0    0    0    0    0    0    0    0    0    0    0    0\n",
            "    0    0    0    0]\n"
          ]
        }
      ]
    },
    {
      "cell_type": "code",
      "source": [
        "# 입력 크기는 영화 리뷰 데이터셋에 적용된 어휘 사전의 크기입니다(10,000개의 단어)\n",
        "vocab_size = 10000\n",
        "\n",
        "model = keras.Sequential()\n",
        "model.add(keras.layers.Embedding(vocab_size, 16, input_shape=(None,)))\n",
        "model.add(keras.layers.GlobalAveragePooling1D())\n",
        "model.add(keras.layers.Dense(16, activation='relu'))\n",
        "model.add(keras.layers.Dense(1, activation='sigmoid'))\n",
        "\n",
        "model.summary()"
      ],
      "metadata": {
        "colab": {
          "base_uri": "https://localhost:8080/"
        },
        "id": "TVr7oYRfp816",
        "outputId": "dab2287d-2ce4-4b8b-cd67-089717e88c08"
      },
      "execution_count": 14,
      "outputs": [
        {
          "output_type": "stream",
          "name": "stdout",
          "text": [
            "Model: \"sequential\"\n",
            "_________________________________________________________________\n",
            " Layer (type)                Output Shape              Param #   \n",
            "=================================================================\n",
            " embedding (Embedding)       (None, None, 16)          160000    \n",
            "                                                                 \n",
            " global_average_pooling1d (G  (None, 16)               0         \n",
            " lobalAveragePooling1D)                                          \n",
            "                                                                 \n",
            " dense (Dense)               (None, 16)                272       \n",
            "                                                                 \n",
            " dense_1 (Dense)             (None, 1)                 17        \n",
            "                                                                 \n",
            "=================================================================\n",
            "Total params: 160,289\n",
            "Trainable params: 160,289\n",
            "Non-trainable params: 0\n",
            "_________________________________________________________________\n"
          ]
        }
      ]
    },
    {
      "cell_type": "code",
      "source": [
        "model.compile(optimizer='adam',\n",
        "              loss='binary_crossentropy',\n",
        "              metrics=['accuracy'])"
      ],
      "metadata": {
        "id": "3wQ9s6Ktrb-3"
      },
      "execution_count": 15,
      "outputs": []
    },
    {
      "cell_type": "code",
      "source": [
        "x_val = train_data[:10000]\n",
        "partial_x_train = train_data[10000:]\n",
        "\n",
        "y_val = train_labels[:10000]\n",
        "partial_y_train = train_labels[10000:]"
      ],
      "metadata": {
        "id": "jXfhRfHlrnvK"
      },
      "execution_count": 16,
      "outputs": []
    },
    {
      "cell_type": "code",
      "source": [
        "history = model.fit(partial_x_train,\n",
        "                    partial_y_train,\n",
        "                    epochs=40,\n",
        "                    batch_size=512,\n",
        "                    validation_data=(x_val, y_val),\n",
        "                    verbose=1)"
      ],
      "metadata": {
        "colab": {
          "base_uri": "https://localhost:8080/"
        },
        "id": "V-z1FgoAr1P_",
        "outputId": "c9715c0b-9e13-4f3f-bb5e-c72df35d419c"
      },
      "execution_count": 17,
      "outputs": [
        {
          "output_type": "stream",
          "name": "stdout",
          "text": [
            "Epoch 1/40\n",
            "30/30 [==============================] - 2s 24ms/step - loss: 0.6922 - accuracy: 0.5523 - val_loss: 0.6906 - val_accuracy: 0.5927\n",
            "Epoch 2/40\n",
            "30/30 [==============================] - 0s 16ms/step - loss: 0.6874 - accuracy: 0.7010 - val_loss: 0.6840 - val_accuracy: 0.7282\n",
            "Epoch 3/40\n",
            "30/30 [==============================] - 1s 17ms/step - loss: 0.6775 - accuracy: 0.7512 - val_loss: 0.6715 - val_accuracy: 0.7486\n",
            "Epoch 4/40\n",
            "30/30 [==============================] - 0s 16ms/step - loss: 0.6599 - accuracy: 0.7700 - val_loss: 0.6511 - val_accuracy: 0.7587\n",
            "Epoch 5/40\n",
            "30/30 [==============================] - 0s 16ms/step - loss: 0.6324 - accuracy: 0.7849 - val_loss: 0.6212 - val_accuracy: 0.7679\n",
            "Epoch 6/40\n",
            "30/30 [==============================] - 0s 16ms/step - loss: 0.5959 - accuracy: 0.7997 - val_loss: 0.5843 - val_accuracy: 0.7910\n",
            "Epoch 7/40\n",
            "30/30 [==============================] - 1s 17ms/step - loss: 0.5530 - accuracy: 0.8177 - val_loss: 0.5444 - val_accuracy: 0.8088\n",
            "Epoch 8/40\n",
            "30/30 [==============================] - 1s 19ms/step - loss: 0.5080 - accuracy: 0.8361 - val_loss: 0.5042 - val_accuracy: 0.8240\n",
            "Epoch 9/40\n",
            "30/30 [==============================] - 1s 20ms/step - loss: 0.4642 - accuracy: 0.8500 - val_loss: 0.4663 - val_accuracy: 0.8365\n",
            "Epoch 10/40\n",
            "30/30 [==============================] - 1s 19ms/step - loss: 0.4243 - accuracy: 0.8647 - val_loss: 0.4336 - val_accuracy: 0.8448\n",
            "Epoch 11/40\n",
            "30/30 [==============================] - 1s 19ms/step - loss: 0.3896 - accuracy: 0.8748 - val_loss: 0.4063 - val_accuracy: 0.8499\n",
            "Epoch 12/40\n",
            "30/30 [==============================] - 1s 18ms/step - loss: 0.3602 - accuracy: 0.8830 - val_loss: 0.3834 - val_accuracy: 0.8564\n",
            "Epoch 13/40\n",
            "30/30 [==============================] - 0s 16ms/step - loss: 0.3349 - accuracy: 0.8888 - val_loss: 0.3656 - val_accuracy: 0.8637\n",
            "Epoch 14/40\n",
            "30/30 [==============================] - 0s 16ms/step - loss: 0.3138 - accuracy: 0.8949 - val_loss: 0.3508 - val_accuracy: 0.8666\n",
            "Epoch 15/40\n",
            "30/30 [==============================] - 1s 18ms/step - loss: 0.2952 - accuracy: 0.8993 - val_loss: 0.3386 - val_accuracy: 0.8697\n",
            "Epoch 16/40\n",
            "30/30 [==============================] - 1s 20ms/step - loss: 0.2790 - accuracy: 0.9045 - val_loss: 0.3282 - val_accuracy: 0.8740\n",
            "Epoch 17/40\n",
            "30/30 [==============================] - 0s 16ms/step - loss: 0.2646 - accuracy: 0.9081 - val_loss: 0.3198 - val_accuracy: 0.8770\n",
            "Epoch 18/40\n",
            "30/30 [==============================] - 0s 16ms/step - loss: 0.2515 - accuracy: 0.9126 - val_loss: 0.3137 - val_accuracy: 0.8753\n",
            "Epoch 19/40\n",
            "30/30 [==============================] - 0s 16ms/step - loss: 0.2399 - accuracy: 0.9173 - val_loss: 0.3070 - val_accuracy: 0.8790\n",
            "Epoch 20/40\n",
            "30/30 [==============================] - 0s 16ms/step - loss: 0.2289 - accuracy: 0.9209 - val_loss: 0.3020 - val_accuracy: 0.8802\n",
            "Epoch 21/40\n",
            "30/30 [==============================] - 0s 16ms/step - loss: 0.2191 - accuracy: 0.9242 - val_loss: 0.2983 - val_accuracy: 0.8828\n",
            "Epoch 22/40\n",
            "30/30 [==============================] - 0s 16ms/step - loss: 0.2095 - accuracy: 0.9285 - val_loss: 0.2946 - val_accuracy: 0.8824\n",
            "Epoch 23/40\n",
            "30/30 [==============================] - 1s 19ms/step - loss: 0.2005 - accuracy: 0.9315 - val_loss: 0.2917 - val_accuracy: 0.8835\n",
            "Epoch 24/40\n",
            "30/30 [==============================] - 1s 19ms/step - loss: 0.1927 - accuracy: 0.9352 - val_loss: 0.2900 - val_accuracy: 0.8833\n",
            "Epoch 25/40\n",
            "30/30 [==============================] - 1s 19ms/step - loss: 0.1856 - accuracy: 0.9384 - val_loss: 0.2881 - val_accuracy: 0.8848\n",
            "Epoch 26/40\n",
            "30/30 [==============================] - 1s 18ms/step - loss: 0.1780 - accuracy: 0.9409 - val_loss: 0.2868 - val_accuracy: 0.8847\n",
            "Epoch 27/40\n",
            "30/30 [==============================] - 0s 16ms/step - loss: 0.1711 - accuracy: 0.9447 - val_loss: 0.2860 - val_accuracy: 0.8855\n",
            "Epoch 28/40\n",
            "30/30 [==============================] - 0s 15ms/step - loss: 0.1646 - accuracy: 0.9473 - val_loss: 0.2853 - val_accuracy: 0.8860\n",
            "Epoch 29/40\n",
            "30/30 [==============================] - 0s 16ms/step - loss: 0.1587 - accuracy: 0.9506 - val_loss: 0.2852 - val_accuracy: 0.8852\n",
            "Epoch 30/40\n",
            "30/30 [==============================] - 0s 15ms/step - loss: 0.1525 - accuracy: 0.9529 - val_loss: 0.2861 - val_accuracy: 0.8842\n",
            "Epoch 31/40\n",
            "30/30 [==============================] - 1s 19ms/step - loss: 0.1470 - accuracy: 0.9555 - val_loss: 0.2859 - val_accuracy: 0.8866\n",
            "Epoch 32/40\n",
            "30/30 [==============================] - 1s 18ms/step - loss: 0.1418 - accuracy: 0.9565 - val_loss: 0.2867 - val_accuracy: 0.8850\n",
            "Epoch 33/40\n",
            "30/30 [==============================] - 1s 20ms/step - loss: 0.1367 - accuracy: 0.9595 - val_loss: 0.2879 - val_accuracy: 0.8855\n",
            "Epoch 34/40\n",
            "30/30 [==============================] - 1s 19ms/step - loss: 0.1316 - accuracy: 0.9613 - val_loss: 0.2896 - val_accuracy: 0.8852\n",
            "Epoch 35/40\n",
            "30/30 [==============================] - 1s 19ms/step - loss: 0.1272 - accuracy: 0.9630 - val_loss: 0.2904 - val_accuracy: 0.8854\n",
            "Epoch 36/40\n",
            "30/30 [==============================] - 1s 19ms/step - loss: 0.1243 - accuracy: 0.9630 - val_loss: 0.2920 - val_accuracy: 0.8861\n",
            "Epoch 37/40\n",
            "30/30 [==============================] - 1s 19ms/step - loss: 0.1186 - accuracy: 0.9664 - val_loss: 0.2939 - val_accuracy: 0.8860\n",
            "Epoch 38/40\n",
            "30/30 [==============================] - 1s 20ms/step - loss: 0.1142 - accuracy: 0.9682 - val_loss: 0.2957 - val_accuracy: 0.8856\n",
            "Epoch 39/40\n",
            "30/30 [==============================] - 1s 19ms/step - loss: 0.1102 - accuracy: 0.9695 - val_loss: 0.2987 - val_accuracy: 0.8845\n",
            "Epoch 40/40\n",
            "30/30 [==============================] - 0s 17ms/step - loss: 0.1068 - accuracy: 0.9710 - val_loss: 0.3006 - val_accuracy: 0.8837\n"
          ]
        }
      ]
    },
    {
      "cell_type": "code",
      "source": [
        "results = model.evaluate(test_data,  test_labels, verbose=2)\n",
        "\n",
        "print(results)"
      ],
      "metadata": {
        "colab": {
          "base_uri": "https://localhost:8080/"
        },
        "id": "akGlmDnlsDmv",
        "outputId": "06107962-ef79-47ac-d78a-d07846780859"
      },
      "execution_count": 19,
      "outputs": [
        {
          "output_type": "stream",
          "name": "stdout",
          "text": [
            "782/782 - 1s - loss: 0.3209 - accuracy: 0.8727 - 1s/epoch - 1ms/step\n",
            "[0.3209283649921417, 0.8726800084114075]\n"
          ]
        }
      ]
    },
    {
      "cell_type": "code",
      "source": [
        "history = model.fit(partial_x_train,\n",
        "                    partial_y_train,\n",
        "                    epochs=40,\n",
        "                    batch_size=512,\n",
        "                    validation_data=(x_val, y_val),\n",
        "                    verbose=1)"
      ],
      "metadata": {
        "colab": {
          "base_uri": "https://localhost:8080/"
        },
        "id": "ik7RndLdstBR",
        "outputId": "c2f1c750-1f76-42ce-a7ef-999827d61f8f"
      },
      "execution_count": 22,
      "outputs": [
        {
          "output_type": "stream",
          "name": "stdout",
          "text": [
            "Epoch 1/40\n",
            "30/30 [==============================] - 1s 17ms/step - loss: 0.1031 - accuracy: 0.9717 - val_loss: 0.3026 - val_accuracy: 0.8842\n",
            "Epoch 2/40\n",
            "30/30 [==============================] - 0s 15ms/step - loss: 0.0991 - accuracy: 0.9738 - val_loss: 0.3053 - val_accuracy: 0.8837\n",
            "Epoch 3/40\n",
            "30/30 [==============================] - 0s 16ms/step - loss: 0.0960 - accuracy: 0.9745 - val_loss: 0.3088 - val_accuracy: 0.8823\n",
            "Epoch 4/40\n",
            "30/30 [==============================] - 0s 15ms/step - loss: 0.0927 - accuracy: 0.9753 - val_loss: 0.3112 - val_accuracy: 0.8817\n",
            "Epoch 5/40\n",
            "30/30 [==============================] - 1s 19ms/step - loss: 0.0892 - accuracy: 0.9774 - val_loss: 0.3136 - val_accuracy: 0.8826\n",
            "Epoch 6/40\n",
            "30/30 [==============================] - 1s 18ms/step - loss: 0.0862 - accuracy: 0.9782 - val_loss: 0.3169 - val_accuracy: 0.8814\n",
            "Epoch 7/40\n",
            "30/30 [==============================] - 1s 18ms/step - loss: 0.0833 - accuracy: 0.9792 - val_loss: 0.3200 - val_accuracy: 0.8816\n",
            "Epoch 8/40\n",
            "30/30 [==============================] - 1s 17ms/step - loss: 0.0802 - accuracy: 0.9809 - val_loss: 0.3244 - val_accuracy: 0.8801\n",
            "Epoch 9/40\n",
            "30/30 [==============================] - 1s 18ms/step - loss: 0.0775 - accuracy: 0.9816 - val_loss: 0.3292 - val_accuracy: 0.8803\n",
            "Epoch 10/40\n",
            "30/30 [==============================] - 1s 18ms/step - loss: 0.0752 - accuracy: 0.9830 - val_loss: 0.3310 - val_accuracy: 0.8797\n",
            "Epoch 11/40\n",
            "30/30 [==============================] - 0s 16ms/step - loss: 0.0725 - accuracy: 0.9830 - val_loss: 0.3345 - val_accuracy: 0.8804\n",
            "Epoch 12/40\n",
            "30/30 [==============================] - 0s 16ms/step - loss: 0.0698 - accuracy: 0.9841 - val_loss: 0.3382 - val_accuracy: 0.8798\n",
            "Epoch 13/40\n",
            "30/30 [==============================] - 0s 16ms/step - loss: 0.0675 - accuracy: 0.9850 - val_loss: 0.3419 - val_accuracy: 0.8793\n",
            "Epoch 14/40\n",
            "30/30 [==============================] - 0s 15ms/step - loss: 0.0649 - accuracy: 0.9860 - val_loss: 0.3476 - val_accuracy: 0.8776\n",
            "Epoch 15/40\n",
            "30/30 [==============================] - 0s 16ms/step - loss: 0.0626 - accuracy: 0.9870 - val_loss: 0.3502 - val_accuracy: 0.8783\n",
            "Epoch 16/40\n",
            "30/30 [==============================] - 0s 15ms/step - loss: 0.0605 - accuracy: 0.9875 - val_loss: 0.3543 - val_accuracy: 0.8780\n",
            "Epoch 17/40\n",
            "30/30 [==============================] - 0s 16ms/step - loss: 0.0584 - accuracy: 0.9887 - val_loss: 0.3590 - val_accuracy: 0.8769\n",
            "Epoch 18/40\n",
            "30/30 [==============================] - 0s 15ms/step - loss: 0.0563 - accuracy: 0.9890 - val_loss: 0.3632 - val_accuracy: 0.8765\n",
            "Epoch 19/40\n",
            "30/30 [==============================] - 0s 15ms/step - loss: 0.0543 - accuracy: 0.9900 - val_loss: 0.3672 - val_accuracy: 0.8775\n",
            "Epoch 20/40\n",
            "30/30 [==============================] - 0s 15ms/step - loss: 0.0524 - accuracy: 0.9904 - val_loss: 0.3737 - val_accuracy: 0.8744\n",
            "Epoch 21/40\n",
            "30/30 [==============================] - 0s 15ms/step - loss: 0.0509 - accuracy: 0.9905 - val_loss: 0.3783 - val_accuracy: 0.8744\n",
            "Epoch 22/40\n",
            "30/30 [==============================] - 0s 16ms/step - loss: 0.0487 - accuracy: 0.9913 - val_loss: 0.3810 - val_accuracy: 0.8764\n",
            "Epoch 23/40\n",
            "30/30 [==============================] - 0s 15ms/step - loss: 0.0468 - accuracy: 0.9914 - val_loss: 0.3862 - val_accuracy: 0.8747\n",
            "Epoch 24/40\n",
            "30/30 [==============================] - 0s 16ms/step - loss: 0.0451 - accuracy: 0.9924 - val_loss: 0.3915 - val_accuracy: 0.8738\n",
            "Epoch 25/40\n",
            "30/30 [==============================] - 0s 16ms/step - loss: 0.0442 - accuracy: 0.9925 - val_loss: 0.3951 - val_accuracy: 0.8763\n",
            "Epoch 26/40\n",
            "30/30 [==============================] - 0s 16ms/step - loss: 0.0421 - accuracy: 0.9929 - val_loss: 0.4003 - val_accuracy: 0.8739\n",
            "Epoch 27/40\n",
            "30/30 [==============================] - 0s 16ms/step - loss: 0.0406 - accuracy: 0.9933 - val_loss: 0.4050 - val_accuracy: 0.8739\n",
            "Epoch 28/40\n",
            "30/30 [==============================] - 1s 17ms/step - loss: 0.0388 - accuracy: 0.9940 - val_loss: 0.4103 - val_accuracy: 0.8728\n",
            "Epoch 29/40\n",
            "30/30 [==============================] - 1s 17ms/step - loss: 0.0374 - accuracy: 0.9941 - val_loss: 0.4149 - val_accuracy: 0.8736\n",
            "Epoch 30/40\n",
            "30/30 [==============================] - 1s 18ms/step - loss: 0.0361 - accuracy: 0.9942 - val_loss: 0.4199 - val_accuracy: 0.8737\n",
            "Epoch 31/40\n",
            "30/30 [==============================] - 1s 17ms/step - loss: 0.0349 - accuracy: 0.9948 - val_loss: 0.4259 - val_accuracy: 0.8727\n",
            "Epoch 32/40\n",
            "30/30 [==============================] - 1s 17ms/step - loss: 0.0334 - accuracy: 0.9954 - val_loss: 0.4302 - val_accuracy: 0.8718\n",
            "Epoch 33/40\n",
            "30/30 [==============================] - 1s 18ms/step - loss: 0.0324 - accuracy: 0.9953 - val_loss: 0.4349 - val_accuracy: 0.8722\n",
            "Epoch 34/40\n",
            "30/30 [==============================] - 1s 18ms/step - loss: 0.0311 - accuracy: 0.9960 - val_loss: 0.4400 - val_accuracy: 0.8716\n",
            "Epoch 35/40\n",
            "30/30 [==============================] - 1s 19ms/step - loss: 0.0299 - accuracy: 0.9965 - val_loss: 0.4453 - val_accuracy: 0.8707\n",
            "Epoch 36/40\n",
            "30/30 [==============================] - 0s 15ms/step - loss: 0.0289 - accuracy: 0.9963 - val_loss: 0.4502 - val_accuracy: 0.8706\n",
            "Epoch 37/40\n",
            "30/30 [==============================] - 0s 15ms/step - loss: 0.0279 - accuracy: 0.9965 - val_loss: 0.4548 - val_accuracy: 0.8695\n",
            "Epoch 38/40\n",
            "30/30 [==============================] - 1s 19ms/step - loss: 0.0268 - accuracy: 0.9970 - val_loss: 0.4619 - val_accuracy: 0.8689\n",
            "Epoch 39/40\n",
            "30/30 [==============================] - 1s 18ms/step - loss: 0.0260 - accuracy: 0.9972 - val_loss: 0.4651 - val_accuracy: 0.8692\n",
            "Epoch 40/40\n",
            "30/30 [==============================] - 1s 18ms/step - loss: 0.0247 - accuracy: 0.9975 - val_loss: 0.4706 - val_accuracy: 0.8682\n"
          ]
        }
      ]
    },
    {
      "cell_type": "code",
      "source": [
        "results = model.evaluate(test_data,  test_labels, verbose=2)\n",
        "\n",
        "print(results)"
      ],
      "metadata": {
        "colab": {
          "base_uri": "https://localhost:8080/"
        },
        "id": "BF91owxgtNgG",
        "outputId": "534b8d7f-ea42-4542-bf25-799c8484ee9e"
      },
      "execution_count": 23,
      "outputs": [
        {
          "output_type": "stream",
          "name": "stdout",
          "text": [
            "782/782 - 1s - loss: 0.5018 - accuracy: 0.8571 - 1s/epoch - 1ms/step\n",
            "[0.5017902851104736, 0.8570799827575684]\n"
          ]
        }
      ]
    },
    {
      "cell_type": "code",
      "source": [
        "history_dict = history.history\n",
        "history_dict.keys()"
      ],
      "metadata": {
        "colab": {
          "base_uri": "https://localhost:8080/"
        },
        "id": "jx7p0glkta6Z",
        "outputId": "c6acbf29-3209-454f-8fa3-f0682f5cd8de"
      },
      "execution_count": 24,
      "outputs": [
        {
          "output_type": "execute_result",
          "data": {
            "text/plain": [
              "dict_keys(['loss', 'accuracy', 'val_loss', 'val_accuracy'])"
            ]
          },
          "metadata": {},
          "execution_count": 24
        }
      ]
    },
    {
      "cell_type": "code",
      "source": [
        "import matplotlib.pyplot as plt\n",
        "\n",
        "acc = history_dict['accuracy']\n",
        "val_acc = history_dict['val_accuracy']\n",
        "loss = history_dict['loss']\n",
        "val_loss = history_dict['val_loss']\n",
        "\n",
        "epochs = range(1, len(acc) + 1)\n",
        "\n",
        "# \"bo\"는 \"파란색 점\"입니다\n",
        "plt.plot(epochs, loss, 'bo', label='Training loss')\n",
        "# b는 \"파란 실선\"입니다\n",
        "plt.plot(epochs, val_loss, 'b', label='Validation loss')\n",
        "plt.title('Training and validation loss')\n",
        "plt.xlabel('Epochs')\n",
        "plt.ylabel('Loss')\n",
        "plt.legend()\n",
        "\n",
        "plt.show()"
      ],
      "metadata": {
        "colab": {
          "base_uri": "https://localhost:8080/",
          "height": 295
        },
        "id": "KL5zvKJPtgNS",
        "outputId": "9c568d42-7143-45ea-fb52-e40be03a6d8b"
      },
      "execution_count": 30,
      "outputs": [
        {
          "output_type": "display_data",
          "data": {
            "text/plain": [
              "<Figure size 432x288 with 1 Axes>"
            ],
            "image/png": "[encoded data removed]"
          },
          "metadata": {
            "needs_background": "light"
          }
        }
      ]
    },
    {
      "cell_type": "code",
      "source": [
        "plt.clf()   # 그림을 초기화합니다\n",
        "\n",
        "plt.plot(epochs, acc, 'bo', label='Training acc')\n",
        "plt.plot(epochs, val_acc, 'b', label='Validation acc')\n",
        "plt.title('Training and validation accuracy')\n",
        "plt.xlabel('Epochs')\n",
        "plt.ylabel('Accuracy')\n",
        "plt.legend()\n",
        "\n",
        "plt.show()"
      ],
      "metadata": {
        "colab": {
          "base_uri": "https://localhost:8080/",
          "height": 295
        },
        "id": "eKaCJ-jduluZ",
        "outputId": "035097bd-6158-4dcc-8ba9-1534db4420a4"
      },
      "execution_count": 31,
      "outputs": [
        {
          "output_type": "display_data",
          "data": {
            "text/plain": [
              "<Figure size 432x288 with 1 Axes>"
            ],
            "image/png": "[encoded data removed]"
          },
          "metadata": {
            "needs_background": "light"
          }
        }
      ]
    },
    {
      "cell_type": "code",
      "source": [
        "[x_val[0]]"
      ],
      "metadata": {
        "colab": {
          "base_uri": "https://localhost:8080/"
        },
        "id": "povjYkXPxrWR",
        "outputId": "0f15672a-f2ab-42cf-cf2c-30b5056760d7"
      },
      "execution_count": 38,
      "outputs": [
        {
          "output_type": "execute_result",
          "data": {
            "text/plain": [
              "[array([   1,   14,   22,   16,   43,  530,  973, 1622, 1385,   65,  458,\n",
              "        4468,   66, 3941,    4,  173,   36,  256,    5,   25,  100,   43,\n",
              "         838,  112,   50,  670,    2,    9,   35,  480,  284,    5,  150,\n",
              "           4,  172,  112,  167,    2,  336,  385,   39,    4,  172, 4536,\n",
              "        1111,   17,  546,   38,   13,  447,    4,  192,   50,   16,    6,\n",
              "         147, 2025,   19,   14,   22,    4, 1920, 4613,  469,    4,   22,\n",
              "          71,   87,   12,   16,   43,  530,   38,   76,   15,   13, 1247,\n",
              "           4,   22,   17,  515,   17,   12,   16,  626,   18,    2,    5,\n",
              "          62,  386,   12,    8,  316,    8,  106,    5,    4, 2223, 5244,\n",
              "          16,  480,   66, 3785,   33,    4,  130,   12,   16,   38,  619,\n",
              "           5,   25,  124,   51,   36,  135,   48,   25, 1415,   33,    6,\n",
              "          22,   12,  215,   28,   77,   52,    5,   14,  407,   16,   82,\n",
              "           2,    8,    4,  107,  117, 5952,   15,  256,    4,    2,    7,\n",
              "        3766,    5,  723,   36,   71,   43,  530,  476,   26,  400,  317,\n",
              "          46,    7,    4,    2, 1029,   13,  104,   88,    4,  381,   15,\n",
              "         297,   98,   32, 2071,   56,   26,  141,    6,  194, 7486,   18,\n",
              "           4,  226,   22,   21,  134,  476,   26,  480,    5,  144,   30,\n",
              "        5535,   18,   51,   36,   28,  224,   92,   25,  104,    4,  226,\n",
              "          65,   16,   38, 1334,   88,   12,   16,  283,    5,   16, 4472,\n",
              "         113,  103,   32,   15,   16, 5345,   19,  178,   32,    0,    0,\n",
              "           0,    0,    0,    0,    0,    0,    0,    0,    0,    0,    0,\n",
              "           0,    0,    0,    0,    0,    0,    0,    0,    0,    0,    0,\n",
              "           0,    0,    0,    0,    0,    0,    0,    0,    0,    0,    0,\n",
              "           0,    0,    0], dtype=int32)]"
            ]
          },
          "metadata": {},
          "execution_count": 38
        }
      ]
    },
    {
      "cell_type": "code",
      "source": [
        "x_val"
      ],
      "metadata": {
        "colab": {
          "base_uri": "https://localhost:8080/"
        },
        "id": "uXbcWAXkwhE9",
        "outputId": "c9e98f28-f6e6-4032-d56f-e0e804250eca"
      },
      "execution_count": 39,
      "outputs": [
        {
          "output_type": "execute_result",
          "data": {
            "text/plain": [
              "array([[   1,   14,   22, ...,    0,    0,    0],\n",
              "       [   1,  194, 1153, ...,    0,    0,    0],\n",
              "       [   1,   14,   47, ...,    0,    0,    0],\n",
              "       ...,\n",
              "       [   1,   14,    9, ...,    0,    0,    0],\n",
              "       [   1,   14,   20, ...,    0,    0,    0],\n",
              "       [   1,   51,  527, ...,    0,    0,    0]], dtype=int32)"
            ]
          },
          "metadata": {},
          "execution_count": 39
        }
      ]
    },
    {
      "cell_type": "code",
      "source": [
        "x_val[0].reshape(1,256)"
      ],
      "metadata": {
        "colab": {
          "base_uri": "https://localhost:8080/"
        },
        "id": "vY79jwtk3wvC",
        "outputId": "1b8257d3-3b8c-4270-d476-385fd679fab2"
      },
      "execution_count": 47,
      "outputs": [
        {
          "output_type": "execute_result",
          "data": {
            "text/plain": [
              "array([[   1,   14,   22,   16,   43,  530,  973, 1622, 1385,   65,  458,\n",
              "        4468,   66, 3941,    4,  173,   36,  256,    5,   25,  100,   43,\n",
              "         838,  112,   50,  670,    2,    9,   35,  480,  284,    5,  150,\n",
              "           4,  172,  112,  167,    2,  336,  385,   39,    4,  172, 4536,\n",
              "        1111,   17,  546,   38,   13,  447,    4,  192,   50,   16,    6,\n",
              "         147, 2025,   19,   14,   22,    4, 1920, 4613,  469,    4,   22,\n",
              "          71,   87,   12,   16,   43,  530,   38,   76,   15,   13, 1247,\n",
              "           4,   22,   17,  515,   17,   12,   16,  626,   18,    2,    5,\n",
              "          62,  386,   12,    8,  316,    8,  106,    5,    4, 2223, 5244,\n",
              "          16,  480,   66, 3785,   33,    4,  130,   12,   16,   38,  619,\n",
              "           5,   25,  124,   51,   36,  135,   48,   25, 1415,   33,    6,\n",
              "          22,   12,  215,   28,   77,   52,    5,   14,  407,   16,   82,\n",
              "           2,    8,    4,  107,  117, 5952,   15,  256,    4,    2,    7,\n",
              "        3766,    5,  723,   36,   71,   43,  530,  476,   26,  400,  317,\n",
              "          46,    7,    4,    2, 1029,   13,  104,   88,    4,  381,   15,\n",
              "         297,   98,   32, 2071,   56,   26,  141,    6,  194, 7486,   18,\n",
              "           4,  226,   22,   21,  134,  476,   26,  480,    5,  144,   30,\n",
              "        5535,   18,   51,   36,   28,  224,   92,   25,  104,    4,  226,\n",
              "          65,   16,   38, 1334,   88,   12,   16,  283,    5,   16, 4472,\n",
              "         113,  103,   32,   15,   16, 5345,   19,  178,   32,    0,    0,\n",
              "           0,    0,    0,    0,    0,    0,    0,    0,    0,    0,    0,\n",
              "           0,    0,    0,    0,    0,    0,    0,    0,    0,    0,    0,\n",
              "           0,    0,    0,    0,    0,    0,    0,    0,    0,    0,    0,\n",
              "           0,    0,    0]], dtype=int32)"
            ]
          },
          "metadata": {},
          "execution_count": 47
        }
      ]
    },
    {
      "cell_type": "code",
      "source": [
        "result = model.predict(x_val[1].reshape(1,256))\n",
        "result[0][0].round(2)"
      ],
      "metadata": {
        "colab": {
          "base_uri": "https://localhost:8080/"
        },
        "id": "frmF3Fse4u0G",
        "outputId": "99a21756-e6b4-4e88-f858-fcfb87b9036e"
      },
      "execution_count": 71,
      "outputs": [
        {
          "output_type": "execute_result",
          "data": {
            "text/plain": [
              "0.0"
            ]
          },
          "metadata": {},
          "execution_count": 71
        }
      ]
    },
    {
      "cell_type": "code",
      "source": [
        "model.predict(x_val)[1][0].round(2)\n"
      ],
      "metadata": {
        "colab": {
          "base_uri": "https://localhost:8080/"
        },
        "id": "Xby52IN06DCm",
        "outputId": "823404d7-1f52-42fb-9fee-6f086b4263cd"
      },
      "execution_count": 69,
      "outputs": [
        {
          "output_type": "execute_result",
          "data": {
            "text/plain": [
              "0.0"
            ]
          },
          "metadata": {},
          "execution_count": 69
        }
      ]
    },
    {
      "cell_type": "code",
      "source": [
        "y_val[1]"
      ],
      "metadata": {
        "colab": {
          "base_uri": "https://localhost:8080/"
        },
        "id": "b25sZ9jI43gn",
        "outputId": "ab640a53-bb22-49fc-adde-438fcf51a228"
      },
      "execution_count": 54,
      "outputs": [
        {
          "output_type": "execute_result",
          "data": {
            "text/plain": [
              "0"
            ]
          },
          "metadata": {},
          "execution_count": 54
        }
      ]
    }
  ]
}